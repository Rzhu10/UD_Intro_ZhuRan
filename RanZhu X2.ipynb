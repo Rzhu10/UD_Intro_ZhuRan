{
 "cells": [
  {
   "cell_type": "code",
   "execution_count": 1,
   "id": "d8dae263",
   "metadata": {},
   "outputs": [
    {
     "name": "stdout",
     "output_type": "stream",
     "text": [
      "introduction to programming\n"
     ]
    }
   ],
   "source": [
    "print(\"introduction to programming\")"
   ]
  },
  {
   "cell_type": "code",
   "execution_count": 2,
   "id": "e7a5aadb",
   "metadata": {},
   "outputs": [
    {
     "name": "stdout",
     "output_type": "stream",
     "text": [
      "Hello World\n"
     ]
    }
   ],
   "source": [
    "print(\"Hello World\")"
   ]
  },
  {
   "cell_type": "code",
   "execution_count": 3,
   "id": "c419e252",
   "metadata": {},
   "outputs": [
    {
     "name": "stdout",
     "output_type": "stream",
     "text": [
      "Ran Zhu\n",
      "ucbvrz3@ucl.ac.uk\n",
      "22\n"
     ]
    }
   ],
   "source": [
    "name = \"Ran Zhu\"\n",
    "email = \"ucbvrz3@ucl.ac.uk\"\n",
    "age = \"22\"\n",
    "\n",
    "print(name +'\\n' + email + '\\n'+ age)"
   ]
  },
  {
   "cell_type": "code",
   "execution_count": 4,
   "id": "f1919a8a",
   "metadata": {},
   "outputs": [
    {
     "ename": "SyntaxError",
     "evalue": "unterminated string literal (detected at line 4) (4225678064.py, line 4)",
     "output_type": "error",
     "traceback": [
      "\u001b[1;36m  Cell \u001b[1;32mIn[4], line 4\u001b[1;36m\u001b[0m\n\u001b[1;33m    print(f\"name:{name}\\nemail:{email}\\nage:{age})\u001b[0m\n\u001b[1;37m          ^\u001b[0m\n\u001b[1;31mSyntaxError\u001b[0m\u001b[1;31m:\u001b[0m unterminated string literal (detected at line 4)\n"
     ]
    }
   ],
   "source": [
    "name = \"Ran\"\n",
    "email = \"ucbvrz3@ucl.ac.uk\"\n",
    "age = 22\n",
    "print(f\"name:{name}\\nemail:{email}\\nage:{age})"
   ]
  },
  {
   "cell_type": "code",
   "execution_count": 5,
   "id": "a2f72238",
   "metadata": {
    "scrolled": true
   },
   "outputs": [
    {
     "ename": "SyntaxError",
     "evalue": "unterminated string literal (detected at line 4) (1020985557.py, line 4)",
     "output_type": "error",
     "traceback": [
      "\u001b[1;36m  Cell \u001b[1;32mIn[5], line 4\u001b[1;36m\u001b[0m\n\u001b[1;33m    print(f\"name:{name}\\nemail:{email}\\nage:{age})\u001b[0m\n\u001b[1;37m          ^\u001b[0m\n\u001b[1;31mSyntaxError\u001b[0m\u001b[1;31m:\u001b[0m unterminated string literal (detected at line 4)\n"
     ]
    }
   ],
   "source": [
    "name = \"Ran Zhu\"\n",
    "email = \"ucbvrz3@ucl.ac.uk\"\n",
    "age = 22\n",
    "print(f\"name:{name}\\nemail:{email}\\nage:{age})"
   ]
  },
  {
   "cell_type": "code",
   "execution_count": 6,
   "id": "7493508a",
   "metadata": {},
   "outputs": [
    {
     "name": "stdout",
     "output_type": "stream",
     "text": [
      "name:Ran Zhu\n",
      "email:ucbvrz3@ucl.ac.uk\n",
      "age:22\n"
     ]
    }
   ],
   "source": [
    "name = \"Ran Zhu\"\n",
    "email = \"ucbvrz3@ucl.ac.uk\"\n",
    "age = 22\n",
    "print(f\"name:{name}\\nemail:{email}\\nage:{age}\")"
   ]
  },
  {
   "cell_type": "code",
   "execution_count": 7,
   "id": "72c17876",
   "metadata": {},
   "outputs": [
    {
     "name": "stdout",
     "output_type": "stream",
     "text": [
      "0\n",
      "178\n",
      "-21\n",
      "59.95918367346939\n",
      "4337328\n",
      "3833759992447475122176\n"
     ]
    }
   ],
   "source": [
    "print(0)\n",
    "print(178)\n",
    "print(-21)\n",
    "print(2938/49)\n",
    "print(436*9948)\n",
    "print(12**20)"
   ]
  },
  {
   "cell_type": "code",
   "execution_count": 8,
   "id": "283b0b1a",
   "metadata": {},
   "outputs": [
    {
     "name": "stdout",
     "output_type": "stream",
     "text": [
      "-0.34202014332566866\n",
      "-0.1736481776669303\n",
      "0.9999999999999999\n"
     ]
    }
   ],
   "source": [
    "from math import *\n",
    "print(sin(radians(200)))\n",
    "print(cos(radians(100)))\n",
    "print(tan(pi/4))"
   ]
  },
  {
   "cell_type": "code",
   "execution_count": 9,
   "id": "e1e92ba8",
   "metadata": {},
   "outputs": [
    {
     "name": "stdout",
     "output_type": "stream",
     "text": [
      "RAN ZHU\n",
      "Zhu\n",
      "RAN ZHUZhu\n"
     ]
    }
   ],
   "source": [
    "firstname = input()\n",
    "lastname = input()\n",
    "print(firstname+''+lastname)"
   ]
  },
  {
   "cell_type": "code",
   "execution_count": null,
   "id": "51c6f369",
   "metadata": {},
   "outputs": [],
   "source": [
    "firstname = input()\n",
    "lastname = input()\n",
    "print(firstname+''+lastname)"
   ]
  },
  {
   "cell_type": "code",
   "execution_count": null,
   "id": "05c7775e",
   "metadata": {},
   "outputs": [],
   "source": [
    "firstname = input()\n",
    "lastname = input()\n",
    "print(firstname+''+lastname)"
   ]
  },
  {
   "cell_type": "code",
   "execution_count": null,
   "id": "46df794d",
   "metadata": {},
   "outputs": [],
   "source": []
  },
  {
   "cell_type": "code",
   "execution_count": null,
   "id": "6f3b9fe5",
   "metadata": {},
   "outputs": [],
   "source": []
  },
  {
   "cell_type": "code",
   "execution_count": null,
   "id": "91f3bdb9",
   "metadata": {},
   "outputs": [],
   "source": []
  },
  {
   "cell_type": "code",
   "execution_count": null,
   "id": "9276411c",
   "metadata": {},
   "outputs": [],
   "source": []
  },
  {
   "cell_type": "code",
   "execution_count": null,
   "id": "8d0618ff",
   "metadata": {},
   "outputs": [],
   "source": [
    "number = float(input())\n",
    "if number > 0:\n",
    "    print('the number is positive')\n",
    "elif number < 0:\n",
    "    print('the number is negative')\n",
    "else:\n",
    "    print('the number is zero')"
   ]
  },
  {
   "cell_type": "code",
   "execution_count": null,
   "id": "659eac74",
   "metadata": {},
   "outputs": [],
   "source": [
    "import random\n",
    "random_number = random.randint(1,20)\n",
    "guessed_number = 0\n",
    "while not random_number == guessed_number;\n",
    "    guessed_number=int(input())\n",
    "print('congratulation,you guessed it!')"
   ]
  },
  {
   "cell_type": "code",
   "execution_count": null,
   "id": "0b357c7c",
   "metadata": {},
   "outputs": [],
   "source": []
  },
  {
   "cell_type": "code",
   "execution_count": null,
   "id": "21d4852b",
   "metadata": {},
   "outputs": [],
   "source": [
    "import random\n",
    "random_number = random.randint(1,20)\n",
    "guessed_number = 0\n",
    "while not random_number == guessed_number;\n",
    "    guessed_number=int(input())\n",
    "print('congratulation,you guessed it!')"
   ]
  },
  {
   "cell_type": "code",
   "execution_count": 1,
   "id": "ff281201",
   "metadata": {},
   "outputs": [
    {
     "name": "stdout",
     "output_type": "stream",
     "text": [
      "1\n",
      "2\n",
      "3\n",
      "4\n",
      "5\n",
      "6\n",
      "7\n",
      "8\n",
      "9\n",
      "10\n",
      "11\n",
      "congratulations,you guessed it!\n"
     ]
    }
   ],
   "source": [
    "import random\n",
    "random_number = random.randint(1,20)\n",
    "guessed_number = 0\n",
    "while not random_number == guessed_number:\n",
    "    guessed_number = int(input())\n",
    "print('congratulations,you guessed it!')"
   ]
  },
  {
   "cell_type": "code",
   "execution_count": 2,
   "id": "468572b7",
   "metadata": {},
   "outputs": [
    {
     "name": "stdout",
     "output_type": "stream",
     "text": [
      "1\n",
      "the number is positive\n"
     ]
    }
   ],
   "source": [
    "number = float(input())\n",
    "if number > 0:\n",
    "    print('the number is positive')\n",
    "elif number < 0:\n",
    "    print('the number is negative')\n",
    "else:\n",
    "    print('the number is zero')"
   ]
  },
  {
   "cell_type": "code",
   "execution_count": 3,
   "id": "e406bdc9",
   "metadata": {},
   "outputs": [
    {
     "name": "stdout",
     "output_type": "stream",
     "text": [
      "set your lower range:\n",
      "1\n",
      "set your upper range:\n",
      "5\n",
      "make a guess\n",
      "1\n",
      "Congratulations, you guessed it in 1!\n"
     ]
    }
   ],
   "source": [
    "import random\n",
    "print('set your lower range:')\n",
    "lr = int(input())\n",
    "print('set your upper range:')\n",
    "ur = int(input())\n",
    "\n",
    "random_number = random.randint(lr,ur)\n",
    "guessed_number = 0\n",
    "nr_guesses = 0\n",
    "\n",
    "while not random_number == guessed_number:\n",
    "    print('make a guess')\n",
    "    nr_guesses +=1\n",
    "    guessed_number = int(input())\n",
    "print(f'Congratulations, you guessed it in {nr_guesses}!')"
   ]
  },
  {
   "cell_type": "code",
   "execution_count": 4,
   "id": "815dca67",
   "metadata": {},
   "outputs": [
    {
     "name": "stdout",
     "output_type": "stream",
     "text": [
      "I'm Ran\n",
      "[\"I'm\", 'Ran']\n"
     ]
    }
   ],
   "source": [
    "sentence = input()\n",
    "words = sentence.split(' ')\n",
    "words.sort()\n",
    "print(words)"
   ]
  },
  {
   "cell_type": "code",
   "execution_count": 5,
   "id": "c56b46c6",
   "metadata": {},
   "outputs": [
    {
     "name": "stdout",
     "output_type": "stream",
     "text": [
      "apple,BANANA,cherry date\n",
      "['apple,BANANA,cherry', 'date']\n"
     ]
    }
   ],
   "source": [
    "sentence = input()\n",
    "words = sentence.split(' ')\n",
    "words.sort(key = lambda x : x.lower())\n",
    "print(words)"
   ]
  },
  {
   "cell_type": "code",
   "execution_count": 6,
   "id": "9ceffde7",
   "metadata": {},
   "outputs": [
    {
     "name": "stdout",
     "output_type": "stream",
     "text": [
      "10\n",
      "         *\n",
      "        ***\n",
      "       *****\n",
      "      *******\n",
      "     *********\n",
      "    ***********\n",
      "   *************\n",
      "  ***************\n",
      " *****************\n",
      "*******************\n",
      "         |\n"
     ]
    }
   ],
   "source": [
    "height = int(input())\n",
    "\n",
    "for i in range(1,height+1):\n",
    "    spaces = ' '*(height-i)\n",
    "    stars = '*'*(i+i-1)\n",
    "    layer = spaces + stars\n",
    "    print(layer)\n",
    "print(' '*(height-1) + '|')"
   ]
  },
  {
   "cell_type": "code",
   "execution_count": 7,
   "id": "b150a0ce",
   "metadata": {},
   "outputs": [
    {
     "name": "stdout",
     "output_type": "stream",
     "text": [
      "10\n",
      "         *\n",
      "         |\n",
      "        ***\n",
      "         |\n",
      "       *****\n",
      "         |\n",
      "      *******\n",
      "         |\n",
      "     *********\n",
      "         |\n",
      "    ***********\n",
      "         |\n",
      "   *************\n",
      "         |\n",
      "  ***************\n",
      "         |\n",
      " *****************\n",
      "         |\n",
      "*******************\n",
      "         |\n"
     ]
    }
   ],
   "source": [
    "height = int(input())\n",
    "\n",
    "for i in range(1,height+1):\n",
    "    spaces = ' '*(height-i)\n",
    "    stars = '*'*(i+i-1)\n",
    "    layer = spaces + stars\n",
    "    print(layer)\n",
    "    print(' '*(height-1) + '|')"
   ]
  },
  {
   "cell_type": "code",
   "execution_count": 8,
   "id": "788877f0",
   "metadata": {},
   "outputs": [
    {
     "name": "stdout",
     "output_type": "stream",
     "text": [
      "50\n",
      "1\n",
      "1\n",
      "1\n",
      "2\n",
      "2\n",
      "3\n",
      "4\n",
      "5\n",
      "7\n",
      "9\n",
      "12\n",
      "16\n",
      "21\n",
      "28\n",
      "37\n",
      "49\n",
      "65\n",
      "86\n",
      "114\n",
      "151\n",
      "200\n",
      "265\n",
      "351\n",
      "465\n",
      "616\n",
      "816\n",
      "1081\n",
      "1432\n",
      "1897\n",
      "2513\n",
      "3329\n",
      "4410\n",
      "5842\n",
      "7739\n",
      "10252\n",
      "13581\n",
      "17991\n",
      "23833\n",
      "31572\n",
      "41824\n",
      "55405\n",
      "73396\n",
      "97229\n",
      "128801\n",
      "170625\n",
      "226030\n",
      "299426\n",
      "396655\n",
      "525456\n",
      "696081\n"
     ]
    }
   ],
   "source": [
    "p0 = 1\n",
    "p1 = 1\n",
    "p2 = 1\n",
    "\n",
    "n = int(input())\n",
    "for i in range(n):\n",
    "    print(p0)\n",
    "    m = p0 + p1\n",
    "    p0 = p1\n",
    "    p1 = p2\n",
    "    p2 = m"
   ]
  },
  {
   "cell_type": "code",
   "execution_count": null,
   "id": "e3959cf3",
   "metadata": {},
   "outputs": [],
   "source": []
  }
 ],
 "metadata": {
  "kernelspec": {
   "display_name": "Python 3 (ipykernel)",
   "language": "python",
   "name": "python3"
  },
  "language_info": {
   "codemirror_mode": {
    "name": "ipython",
    "version": 3
   },
   "file_extension": ".py",
   "mimetype": "text/x-python",
   "name": "python",
   "nbconvert_exporter": "python",
   "pygments_lexer": "ipython3",
   "version": "3.11.5"
  }
 },
 "nbformat": 4,
 "nbformat_minor": 5
}
