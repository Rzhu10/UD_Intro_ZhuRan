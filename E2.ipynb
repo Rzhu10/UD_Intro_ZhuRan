{
 "cells": [
  {
   "cell_type": "code",
   "execution_count": 1,
   "id": "8fbc0804",
   "metadata": {},
   "outputs": [],
   "source": [
    "mylist=[]\n",
    "for i in range(20):\n",
    "    mylist.append(i*5)"
   ]
  },
  {
   "cell_type": "code",
   "execution_count": 2,
   "id": "d3f48f7f",
   "metadata": {},
   "outputs": [
    {
     "data": {
      "text/plain": [
       "[0, 5, 10, 15, 20, 25, 30, 35, 40, 45, 50, 55, 60, 65, 70, 75, 80, 85, 90, 95]"
      ]
     },
     "execution_count": 2,
     "metadata": {},
     "output_type": "execute_result"
    }
   ],
   "source": [
    "mylist"
   ]
  },
  {
   "cell_type": "code",
   "execution_count": 3,
   "id": "7934c4c6",
   "metadata": {},
   "outputs": [
    {
     "ename": "SyntaxError",
     "evalue": "expected ':' (4186733194.py, line 1)",
     "output_type": "error",
     "traceback": [
      "\u001b[1;36m  Cell \u001b[1;32mIn[3], line 1\u001b[1;36m\u001b[0m\n\u001b[1;33m    def name(n)\u001b[0m\n\u001b[1;37m               ^\u001b[0m\n\u001b[1;31mSyntaxError\u001b[0m\u001b[1;31m:\u001b[0m expected ':'\n"
     ]
    }
   ],
   "source": [
    "def name(n)\n",
    "    div=1\n",
    "    for i in range(1,int(n/2)+1)\n",
    "        if n%1==0:\n",
    "            div=1\n",
    "            print(1)\n",
    "    return div"
   ]
  },
  {
   "cell_type": "code",
   "execution_count": 4,
   "id": "79fe4e2e",
   "metadata": {},
   "outputs": [
    {
     "ename": "SyntaxError",
     "evalue": "expected ':' (2278208261.py, line 1)",
     "output_type": "error",
     "traceback": [
      "\u001b[1;36m  Cell \u001b[1;32mIn[4], line 1\u001b[1;36m\u001b[0m\n\u001b[1;33m    def dividers(n)\u001b[0m\n\u001b[1;37m                   ^\u001b[0m\n\u001b[1;31mSyntaxError\u001b[0m\u001b[1;31m:\u001b[0m expected ':'\n"
     ]
    }
   ],
   "source": [
    "def dividers(n)\n",
    "    div=1\n",
    "    for i in range(1,int(n/2)+1)\n",
    "        if n%1==0:\n",
    "            div=1\n",
    "            print(1)\n",
    "    return div"
   ]
  },
  {
   "cell_type": "code",
   "execution_count": 5,
   "id": "e5b1d989",
   "metadata": {},
   "outputs": [
    {
     "ename": "SyntaxError",
     "evalue": "invalid syntax (3154312939.py, line 1)",
     "output_type": "error",
     "traceback": [
      "\u001b[1;36m  Cell \u001b[1;32mIn[5], line 1\u001b[1;36m\u001b[0m\n\u001b[1;33m    def dividers(10):\u001b[0m\n\u001b[1;37m                 ^\u001b[0m\n\u001b[1;31mSyntaxError\u001b[0m\u001b[1;31m:\u001b[0m invalid syntax\n"
     ]
    }
   ],
   "source": [
    "def dividers(10):\n",
    "    div=1\n",
    "    for i in range(1,int(n/2)+1)\n",
    "        if n%1==0:\n",
    "            div=1\n",
    "            print(1)\n",
    "    return div"
   ]
  },
  {
   "cell_type": "code",
   "execution_count": 6,
   "id": "87d24b2f",
   "metadata": {},
   "outputs": [
    {
     "ename": "SyntaxError",
     "evalue": "expected ':' (79476441.py, line 3)",
     "output_type": "error",
     "traceback": [
      "\u001b[1;36m  Cell \u001b[1;32mIn[6], line 3\u001b[1;36m\u001b[0m\n\u001b[1;33m    for i in range(1,int(n/2)+1)\u001b[0m\n\u001b[1;37m                                ^\u001b[0m\n\u001b[1;31mSyntaxError\u001b[0m\u001b[1;31m:\u001b[0m expected ':'\n"
     ]
    }
   ],
   "source": [
    "def dividers(n):\n",
    "    div=1\n",
    "    for i in range(1,int(n/2)+1)\n",
    "        if n%1==0:\n",
    "            div=1\n",
    "            print(1)\n",
    "    return div"
   ]
  },
  {
   "cell_type": "code",
   "execution_count": 7,
   "id": "f57757c1",
   "metadata": {},
   "outputs": [
    {
     "ename": "SyntaxError",
     "evalue": "expected ':' (3416893624.py, line 3)",
     "output_type": "error",
     "traceback": [
      "\u001b[1;36m  Cell \u001b[1;32mIn[7], line 3\u001b[1;36m\u001b[0m\n\u001b[1;33m    for i in range(1,int(n/2)+1)\u001b[0m\n\u001b[1;37m                                ^\u001b[0m\n\u001b[1;31mSyntaxError\u001b[0m\u001b[1;31m:\u001b[0m expected ':'\n"
     ]
    }
   ],
   "source": [
    "def dividers(n):\n",
    "    div=1\n",
    "    for i in range(1,int(n/2)+1)\n",
    "        if n%i==0:\n",
    "            div=i\n",
    "            print(i)\n",
    "    return div"
   ]
  },
  {
   "cell_type": "code",
   "execution_count": 10,
   "id": "91b9fb7f",
   "metadata": {},
   "outputs": [],
   "source": [
    "def dividers(n):\n",
    "    div=1\n",
    "    for i in range(1,int(n/2)+1):\n",
    "        if n%i==0:\n",
    "            div=i\n",
    "            print(i)\n",
    "    return div"
   ]
  },
  {
   "cell_type": "code",
   "execution_count": 11,
   "id": "1f04201f",
   "metadata": {},
   "outputs": [
    {
     "name": "stdout",
     "output_type": "stream",
     "text": [
      "1\n",
      "2\n",
      "5\n",
      "10\n",
      "25\n"
     ]
    },
    {
     "data": {
      "text/plain": [
       "25"
      ]
     },
     "execution_count": 11,
     "metadata": {},
     "output_type": "execute_result"
    }
   ],
   "source": [
    "dividers(50)"
   ]
  },
  {
   "cell_type": "code",
   "execution_count": 12,
   "id": "c0ab5522",
   "metadata": {},
   "outputs": [],
   "source": [
    "ZYT={'A':'A1','B':'B1','C':'C1','D':'D1','E':'E1','F':'F1'}"
   ]
  },
  {
   "cell_type": "code",
   "execution_count": 13,
   "id": "b9f5721b",
   "metadata": {},
   "outputs": [
    {
     "name": "stdout",
     "output_type": "stream",
     "text": [
      "{'A': 'A1', 'B': 'B1', 'C': 'C1', 'D': 'D1', 'E': 'E1', 'F': 'F1'}\n"
     ]
    }
   ],
   "source": [
    "print(ZYT)"
   ]
  },
  {
   "cell_type": "code",
   "execution_count": 14,
   "id": "cad7a919",
   "metadata": {},
   "outputs": [],
   "source": [
    "def inZYT(x,k):\n",
    "    for y in x.keys():\n",
    "        if k==y:\n",
    "            return True\n",
    "    return False"
   ]
  },
  {
   "cell_type": "code",
   "execution_count": 15,
   "id": "d274db60",
   "metadata": {},
   "outputs": [
    {
     "data": {
      "text/plain": [
       "True"
      ]
     },
     "execution_count": 15,
     "metadata": {},
     "output_type": "execute_result"
    }
   ],
   "source": [
    "inZYT(ZYT,'A')"
   ]
  },
  {
   "cell_type": "code",
   "execution_count": 16,
   "id": "306db0a7",
   "metadata": {},
   "outputs": [
    {
     "data": {
      "text/plain": [
       "False"
      ]
     },
     "execution_count": 16,
     "metadata": {},
     "output_type": "execute_result"
    }
   ],
   "source": [
    "inZYT(ZYT,'G')"
   ]
  },
  {
   "cell_type": "code",
   "execution_count": 17,
   "id": "0bbaa608",
   "metadata": {},
   "outputs": [
    {
     "ename": "SyntaxError",
     "evalue": "invalid syntax (4034146284.py, line 1)",
     "output_type": "error",
     "traceback": [
      "\u001b[1;36m  Cell \u001b[1;32mIn[17], line 1\u001b[1;36m\u001b[0m\n\u001b[1;33m    Def swapZYT(x):\u001b[0m\n\u001b[1;37m        ^\u001b[0m\n\u001b[1;31mSyntaxError\u001b[0m\u001b[1;31m:\u001b[0m invalid syntax\n"
     ]
    }
   ],
   "source": [
    "Def swapZYT(x):\n",
    "    newZYT={}\n",
    "    For y in x.keys():\n",
    "        newZYT[x[y]]=y\n",
    "    Return newZYT"
   ]
  },
  {
   "cell_type": "code",
   "execution_count": 18,
   "id": "08488365",
   "metadata": {},
   "outputs": [
    {
     "ename": "SyntaxError",
     "evalue": "invalid syntax (2487498127.py, line 1)",
     "output_type": "error",
     "traceback": [
      "\u001b[1;36m  Cell \u001b[1;32mIn[18], line 1\u001b[1;36m\u001b[0m\n\u001b[1;33m    Def swapZYT(x):\u001b[0m\n\u001b[1;37m        ^\u001b[0m\n\u001b[1;31mSyntaxError\u001b[0m\u001b[1;31m:\u001b[0m invalid syntax\n"
     ]
    }
   ],
   "source": [
    "def swapZYT(x):\n",
    "    newZYT={}\n",
    "    For y in x.keys():\n",
    "        newZYT[x[y]]=y\n",
    "    Return newZYT"
   ]
  },
  {
   "cell_type": "code",
   "execution_count": 19,
   "id": "4405fa01",
   "metadata": {},
   "outputs": [
    {
     "ename": "SyntaxError",
     "evalue": "invalid syntax (3080780376.py, line 3)",
     "output_type": "error",
     "traceback": [
      "\u001b[1;36m  Cell \u001b[1;32mIn[19], line 3\u001b[1;36m\u001b[0m\n\u001b[1;33m    For y in x.keys():\u001b[0m\n\u001b[1;37m        ^\u001b[0m\n\u001b[1;31mSyntaxError\u001b[0m\u001b[1;31m:\u001b[0m invalid syntax\n"
     ]
    }
   ],
   "source": [
    "def swapZYT(x):\n",
    "    newZYT={}\n",
    "    For y in x.keys():\n",
    "        newZYT[x[y]]=y\n",
    "    Return newZYT"
   ]
  },
  {
   "cell_type": "code",
   "execution_count": 20,
   "id": "ef8bfad0",
   "metadata": {},
   "outputs": [],
   "source": [
    "def swapZYT(x):\n",
    "    newZYT={}\n",
    "    for y in x.keys():\n",
    "        newZYT[x[y]]=y\n",
    "    return newZYT"
   ]
  },
  {
   "cell_type": "code",
   "execution_count": 21,
   "id": "cd2de1b2",
   "metadata": {},
   "outputs": [
    {
     "data": {
      "text/plain": [
       "{'A1': 'A', 'B1': 'B', 'C1': 'C', 'D1': 'D', 'E1': 'E', 'F1': 'F'}"
      ]
     },
     "execution_count": 21,
     "metadata": {},
     "output_type": "execute_result"
    }
   ],
   "source": [
    "swapZYT(ZYT)"
   ]
  },
  {
   "cell_type": "code",
   "execution_count": 22,
   "id": "9f0c3e59",
   "metadata": {},
   "outputs": [],
   "source": [
    "def fzyt(n):\n",
    "    fibonacci = {}\n",
    "    x1 = 0\n",
    "    x2 = 1\n",
    "    for i in range(n):\n",
    "        fibonacci[i]=x1\n",
    "        z = x1 + y2\n",
    "        x1 = y2\n",
    "        y2 = z\n",
    "    return fibonacci"
   ]
  },
  {
   "cell_type": "code",
   "execution_count": 23,
   "id": "971f3911",
   "metadata": {},
   "outputs": [
    {
     "data": {
      "text/plain": [
       "50"
      ]
     },
     "execution_count": 23,
     "metadata": {},
     "output_type": "execute_result"
    }
   ],
   "source": [
    "50"
   ]
  },
  {
   "cell_type": "code",
   "execution_count": 24,
   "id": "943cba37",
   "metadata": {},
   "outputs": [
    {
     "ename": "UnboundLocalError",
     "evalue": "cannot access local variable 'y2' where it is not associated with a value",
     "output_type": "error",
     "traceback": [
      "\u001b[1;31m---------------------------------------------------------------------------\u001b[0m",
      "\u001b[1;31mUnboundLocalError\u001b[0m                         Traceback (most recent call last)",
      "Cell \u001b[1;32mIn[24], line 1\u001b[0m\n\u001b[1;32m----> 1\u001b[0m fzyt(\u001b[38;5;241m50\u001b[39m)\n",
      "Cell \u001b[1;32mIn[22], line 7\u001b[0m, in \u001b[0;36mfzyt\u001b[1;34m(n)\u001b[0m\n\u001b[0;32m      5\u001b[0m \u001b[38;5;28;01mfor\u001b[39;00m i \u001b[38;5;129;01min\u001b[39;00m \u001b[38;5;28mrange\u001b[39m(n):\n\u001b[0;32m      6\u001b[0m     fibonacci[i]\u001b[38;5;241m=\u001b[39mx1\n\u001b[1;32m----> 7\u001b[0m     z \u001b[38;5;241m=\u001b[39m x1 \u001b[38;5;241m+\u001b[39m y2\n\u001b[0;32m      8\u001b[0m     x1 \u001b[38;5;241m=\u001b[39m y2\n\u001b[0;32m      9\u001b[0m     y2 \u001b[38;5;241m=\u001b[39m z\n",
      "\u001b[1;31mUnboundLocalError\u001b[0m: cannot access local variable 'y2' where it is not associated with a value"
     ]
    }
   ],
   "source": [
    "fzyt(50)"
   ]
  },
  {
   "cell_type": "code",
   "execution_count": null,
   "id": "19947079",
   "metadata": {},
   "outputs": [],
   "source": []
  }
 ],
 "metadata": {
  "kernelspec": {
   "display_name": "Python 3 (ipykernel)",
   "language": "python",
   "name": "python3"
  },
  "language_info": {
   "codemirror_mode": {
    "name": "ipython",
    "version": 3
   },
   "file_extension": ".py",
   "mimetype": "text/x-python",
   "name": "python",
   "nbconvert_exporter": "python",
   "pygments_lexer": "ipython3",
   "version": "3.11.5"
  }
 },
 "nbformat": 4,
 "nbformat_minor": 5
}
